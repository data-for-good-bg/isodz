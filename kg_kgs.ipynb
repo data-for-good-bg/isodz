{
 "cells": [
  {
   "cell_type": "code",
   "execution_count": 1,
   "metadata": {},
   "outputs": [],
   "source": [
    "import requests\n",
    "from pandas import json_normalize\n",
    "import pandas as pd\n",
    "import numpy as np\n",
    "import random\n",
    "import os\n",
    "import openpyxl\n",
    "from openpyxl import load_workbook\n",
    "from openpyxl.utils.dataframe import dataframe_to_rows"
   ]
  },
  {
   "cell_type": "code",
   "execution_count": 2,
   "metadata": {},
   "outputs": [
    {
     "data": {
      "text/plain": [
       "'C:\\\\Users\\\\petrovamaggie\\\\Projects\\\\Data for Good\\\\ISODZ_May2022'"
      ]
     },
     "execution_count": 2,
     "metadata": {},
     "output_type": "execute_result"
    }
   ],
   "source": [
    "#Check the working directory\n",
    "os.getcwd()"
   ]
  },
  {
   "cell_type": "code",
   "execution_count": 333,
   "metadata": {},
   "outputs": [],
   "source": [
    "import requests\n",
    "\n",
    "cookies = {\n",
    "    'ZNPCQ003-34313200': 'd3fd87f8',\n",
    "    '__utma': '50917555.1324551724.1617026818.1617114519.1617265546.5',\n",
    "    '__utmc': '50917555',\n",
    "    '__utmz': '50917555.1617265546.5.5.utmcsr=google^|utmccn=(organic)^|utmcmd=organic^|utmctr=(not^%^20provided)',\n",
    "}\n",
    "\n",
    "headers = {\n",
    "    'Connection': 'keep-alive',\n",
    "    'sec-ch-ua': '^\\\\^Google',\n",
    "    'Accept': 'application/json, text/plain, */*',\n",
    "    'sec-ch-ua-mobile': '?0',\n",
    "    'User-Agent': 'Mozilla/5.0 (Windows NT 10.0; Win64; x64) AppleWebKit/537.36 (KHTML, like Gecko) Chrome/89.0.4389.90 Safari/537.36',\n",
    "    'Sec-Fetch-Site': 'same-origin',\n",
    "    'Sec-Fetch-Mode': 'cors',\n",
    "    'Sec-Fetch-Dest': 'empty',\n",
    "    'Referer': 'https://kg.sofia.bg/',\n",
    "    'Accept-Language': 'en-GB,en;q=0.9,en-US;q=0.8,bg;q=0.7,el;q=0.6,de;q=0.5',\n",
    "}\n",
    "\n",
    "params = (\n",
    "    ('timeMode', 'all'),\n",
    "    ('draft', '2022'),\n",
    "    ('regionId', '17'),\n",
    ")\n",
    "\n",
    "response = requests.get('https://kg.sofia.bg/api/public/free/spots/kinderGardenAll', headers=headers, params=params, cookies=cookies)"
   ]
  },
  {
   "cell_type": "code",
   "execution_count": 334,
   "metadata": {},
   "outputs": [],
   "source": [
    "data = response.json()"
   ]
  },
  {
   "cell_type": "code",
   "execution_count": 335,
   "metadata": {},
   "outputs": [],
   "source": [
    "kgName = []\n",
    "kgID = []\n",
    "kgExternal = []\n",
    "kgMapUrl = []\n",
    "\n",
    "\n",
    "for data3 in data[\"items\"][\"freeSpots\"][\"listZavedenia\"]:\n",
    "    kgName.append(data3[\"dz\"][\"name\"])\n",
    "    kgID.append(data3[\"dz\"][\"id\"])\n",
    "    kgExternal.append(data3[\"dz\"][\"external\"])\n",
    "    kgMapUrl.append(data3[\"dz\"][\"mapUrl\"])\n",
    "    "
   ]
  },
  {
   "cell_type": "code",
   "execution_count": 336,
   "metadata": {},
   "outputs": [],
   "source": [
    "s1=pd.Series(kgName,name='kgName')\n",
    "s2=pd.Series(kgID,name='kgID')\n",
    "s3=pd.Series(kgExternal ,name='kgExternal')\n",
    "s4=pd.Series(kgMapUrl ,name='kgMapUrl')\n",
    "\n",
    "df_kgs = pd.concat([s1,s2,s3,s4], axis=1)\n",
    "df_kgs[\"selectedRegionId\"] = data[\"items\"][\"freeSpots\"][\"selectedRegion\"][\"region\"][\"id\"]\n",
    "df_kgs[\"selectedRegionRegionName\"] = data[\"items\"][\"freeSpots\"][\"selectedRegion\"][\"region\"][\"name\"]\n",
    "#df_kgs"
   ]
  },
  {
   "cell_type": "code",
   "execution_count": 337,
   "metadata": {},
   "outputs": [],
   "source": [
    "df_kgs.to_csv('kg_kgs_2023.csv', mode='a', index = False, header=None)"
   ]
  },
  {
   "cell_type": "code",
   "execution_count": null,
   "metadata": {},
   "outputs": [],
   "source": []
  },
  {
   "cell_type": "code",
   "execution_count": null,
   "metadata": {},
   "outputs": [],
   "source": []
  }
 ],
 "metadata": {
  "kernelspec": {
   "display_name": "Python 3",
   "language": "python",
   "name": "python3"
  },
  "language_info": {
   "codemirror_mode": {
    "name": "ipython",
    "version": 3
   },
   "file_extension": ".py",
   "mimetype": "text/x-python",
   "name": "python",
   "nbconvert_exporter": "python",
   "pygments_lexer": "ipython3",
   "version": "3.8.8"
  }
 },
 "nbformat": 4,
 "nbformat_minor": 2
}
