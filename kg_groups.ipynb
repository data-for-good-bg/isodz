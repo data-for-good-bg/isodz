{
 "cells": [
  {
   "cell_type": "code",
   "execution_count": 9,
   "metadata": {},
   "outputs": [],
   "source": [
    "import requests\n",
    "from pandas import json_normalize\n",
    "import pandas as pd\n",
    "import numpy as np\n",
    "import random\n",
    "#import os\n",
    "import openpyxl\n",
    "from openpyxl import load_workbook\n",
    "from openpyxl.utils.dataframe import dataframe_to_rows"
   ]
  },
  {
   "cell_type": "code",
   "execution_count": 372,
   "metadata": {},
   "outputs": [],
   "source": [
    "import requests\n",
    "\n",
    "cookies = {\n",
    "    'ZNPCQ003-34313200': 'd3fd87f8',\n",
    "    '__utma': '50917555.1324551724.1617026818.1617114519.1617265546.5',\n",
    "    '__utmc': '50917555',\n",
    "    '__utmz': '50917555.1617265546.5.5.utmcsr=google^|utmccn=(organic)^|utmcmd=organic^|utmctr=(not^%^20provided)',\n",
    "}\n",
    "\n",
    "headers = {\n",
    "    'Connection': 'keep-alive',\n",
    "    'sec-ch-ua': '^\\\\^Google',\n",
    "    'Accept': 'application/json, text/plain, */*',\n",
    "    'sec-ch-ua-mobile': '?0',\n",
    "    'User-Agent': 'Mozilla/5.0 (Windows NT 10.0; Win64; x64) AppleWebKit/537.36 (KHTML, like Gecko) Chrome/89.0.4389.90 Safari/537.36',\n",
    "    'Sec-Fetch-Site': 'same-origin',\n",
    "    'Sec-Fetch-Mode': 'cors',\n",
    "    'Sec-Fetch-Dest': 'empty',\n",
    "    'Referer': 'https://kg.sofia.bg/',\n",
    "    'Accept-Language': 'en-GB,en;q=0.9,en-US;q=0.8,bg;q=0.7,el;q=0.6,de;q=0.5',\n",
    "}\n",
    "\n",
    "params = (\n",
    "    ('timeMode', 'all'),\n",
    "    ('draft', '2022'),\n",
    "    ('regionId', '24'),\n",
    ")\n",
    "\n",
    "response = requests.get('https://kg.sofia.bg/api/public/free/spots/kinderGardenAll', headers=headers, params=params, cookies=cookies)\n",
    "\n",
    "#NB. Original query string below. It seems impossible to parse and\n",
    "#reproduce query strings 100% accurately so the one below is given\n",
    "#in case the reproduced version is not \"correct\".\n",
    "# response = requests.get('https://kg.sofia.bg/api/public/free/spots/kinderGardenAll?timeMode=all&draft=2020&regionId=1', headers=headers, cookies=cookies)\n"
   ]
  },
  {
   "cell_type": "code",
   "execution_count": 373,
   "metadata": {},
   "outputs": [],
   "source": [
    "data = response.json()"
   ]
  },
  {
   "cell_type": "code",
   "execution_count": 374,
   "metadata": {},
   "outputs": [
    {
     "name": "stdout",
     "output_type": "stream",
     "text": [
      "1991 -1 False\n",
      "4847 0 False\n",
      "4247 0 False\n",
      "6923 20 True\n",
      "2393 -1 False\n",
      "1491 -1 False\n",
      "3485 0 False\n",
      "6069 60 True\n",
      "1490 -1 False\n",
      "2705 -1 False\n",
      "1646 -1 False\n",
      "5420 0 False\n",
      "3063 -1 False\n"
     ]
    }
   ],
   "source": [
    "#data\n",
    "#selectedRegionId = data[\"items\"][\"freeSpots\"][\"selectedRegion\"][\"region\"][\"id\"]\n",
    "#selectedRegionRegionName = data[\"items\"][\"freeSpots\"][\"selectedRegion\"][\"region\"][\"name\"]\n",
    "#kgName = data[\"items\"][\"freeSpots\"][\"listZavedenia\"][0][\"dz\"][\"name\"]\n",
    "#kgID = data[\"items\"][\"freeSpots\"][\"listZavedenia\"][0][\"dz\"][\"id\"]\n",
    "#kgExternal = data[\"items\"][\"freeSpots\"][\"listZavedenia\"][0][\"dz\"][\"external\"]\n",
    "#kgMapUrl = data[\"items\"][\"freeSpots\"][\"listZavedenia\"][0][\"dz\"][\"mapUrl\"]\n",
    "\n",
    "#kgName=[]\n",
    "\n",
    "#for data3 in data[\"items\"][\"freeSpots\"][\"listZavedenia\"]:\n",
    "#    kgName.append(data3[\"dz\"][\"name\"])\n",
    "\n",
    "#regions = json_normalize(data[\"items\"][\"regions\"])\n",
    "\n",
    "#data[\"items\"][\"freeSpots\"][\"listZavedenia\"][1]['dz']['groups']\n",
    "\n",
    "\n",
    "ids = []\n",
    "capacity = []\n",
    "active = []\n",
    "draft = []\n",
    "\n",
    "\n",
    "for data3 in data[\"items\"][\"freeSpots\"][\"listZavedenia\"]:\n",
    "    for i in data3['dz']['groups']:\n",
    "        ids.append(i['id'])\n",
    "        draft.append(i['draft'])\n",
    "        capacity.append(i['capacity'])\n",
    "        active.append(i['active'])\n",
    "        print(i['id'], i['capacity'],i['active'])\n",
    "\n",
    "\n",
    "    "
   ]
  },
  {
   "cell_type": "code",
   "execution_count": 375,
   "metadata": {},
   "outputs": [],
   "source": [
    "s1=pd.Series(ids,name='ids')\n",
    "s2=pd.Series(capacity,name='capacity')\n",
    "s3=pd.Series(active ,name='active')\n",
    "s4=pd.Series(draft ,name='draft')\n",
    "\n",
    "df_groups = pd.concat([s1,s2,s3,s4], axis=1)\n",
    "#df_groups[\"selectedRegionId\"] = data[\"items\"][\"freeSpots\"][\"selectedRegion\"][\"region\"][\"id\"]\n",
    "#df_groups[\"selectedRegionRegionName\"] = data[\"items\"][\"freeSpots\"][\"selectedRegion\"][\"region\"][\"name\"]"
   ]
  },
  {
   "cell_type": "code",
   "execution_count": 376,
   "metadata": {},
   "outputs": [],
   "source": [
    "#df_groups.to_csv('kg_groups_11052022.csv', mode='a', index = False, header=None)\n",
    "df_groups.to_csv('kg_groups_2023.csv', mode='a', index = False, header=None)"
   ]
  },
  {
   "cell_type": "markdown",
   "metadata": {},
   "source": [
    "kgName = []\n",
    "kgID = []\n",
    "kgExternal = []\n",
    "kgMapUrl = []\n",
    "\n",
    "\n",
    "for data3 in data[\"items\"][\"freeSpots\"][\"listZavedenia\"]:\n",
    "    kgName.append(data3[\"dz\"][\"name\"])\n",
    "    kgID.append(data3[\"dz\"][\"id\"])\n",
    "    kgExternal.append(data3[\"dz\"][\"external\"])\n",
    "    kgMapUrl.append(data3[\"dz\"][\"mapUrl\"])\n",
    "    \n",
    "    \n"
   ]
  },
  {
   "cell_type": "markdown",
   "metadata": {},
   "source": [
    "s1=pd.Series(kgName,name='kgName')\n",
    "s2=pd.Series(kgID,name='kgID')\n",
    "s3=pd.Series(kgExternal ,name='kgExternal')\n",
    "s4=pd.Series(kgMapUrl ,name='kgMapUrl')\n",
    "\n",
    "df_kgs = pd.concat([s1,s2,s3,s4], axis=1)\n",
    "df_kgs[\"selectedRegionId\"] = data[\"items\"][\"freeSpots\"][\"selectedRegion\"][\"region\"][\"id\"]\n",
    "df_kgs[\"selectedRegionRegionName\"] = data[\"items\"][\"freeSpots\"][\"selectedRegion\"][\"region\"][\"name\"]"
   ]
  },
  {
   "cell_type": "markdown",
   "metadata": {},
   "source": [
    "df_kgs"
   ]
  }
 ],
 "metadata": {
  "kernelspec": {
   "display_name": "Python 3",
   "language": "python",
   "name": "python3"
  },
  "language_info": {
   "codemirror_mode": {
    "name": "ipython",
    "version": 3
   },
   "file_extension": ".py",
   "mimetype": "text/x-python",
   "name": "python",
   "nbconvert_exporter": "python",
   "pygments_lexer": "ipython3",
   "version": "3.8.8"
  }
 },
 "nbformat": 4,
 "nbformat_minor": 2
}
